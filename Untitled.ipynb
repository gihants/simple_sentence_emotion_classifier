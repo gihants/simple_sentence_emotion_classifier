{
 "cells": [
  {
   "cell_type": "code",
   "execution_count": 13,
   "id": "8dd28013-3424-4be2-b6bb-ee9a7f0ebdff",
   "metadata": {},
   "outputs": [],
   "source": [
    "from gensim.models import Word2Vec \n",
    "from sklearn.decomposition import PCA\n",
    "from matplotlib import pyplot"
   ]
  },
  {
   "cell_type": "code",
   "execution_count": 14,
   "id": "65ec244f-9d9a-4801-8725-fa739989497e",
   "metadata": {},
   "outputs": [
    {
     "name": "stdout",
     "output_type": "stream",
     "text": [
      "Word2Vec(vocab=14, size=100, alpha=0.025)\n",
      "['this', 'is', 'the', 'first', 'sentence', 'for', 'word2vec', 'second', 'yet', 'another', 'one', 'more', 'and', 'final']\n",
      "[ 3.9575687e-03  3.0347437e-03  3.2948649e-03  2.2228141e-03\n",
      "  1.4444072e-04 -2.8784475e-03 -1.3795915e-03 -2.1089683e-03\n",
      "  4.1857199e-03 -4.4593494e-03 -2.2262486e-03  4.7027054e-03\n",
      "  1.3997998e-03  3.3884002e-03 -3.3504516e-03 -4.1399919e-03\n",
      "  5.3461839e-04 -3.0493869e-03 -1.1690027e-04 -4.5348946e-03\n",
      " -2.2376471e-03 -1.0159913e-03  3.7647618e-03  3.2317846e-03\n",
      " -6.2936771e-04  4.8238859e-03  1.1099479e-03  2.9626742e-03\n",
      "  4.7567878e-03 -2.3815222e-03  3.2414244e-03  5.8934069e-04\n",
      " -4.9673761e-03 -4.4839829e-03  3.6131553e-03  2.6361288e-03\n",
      "  3.8832738e-03 -2.3481200e-04 -1.1661602e-03  3.7935560e-03\n",
      "  2.8323689e-03  3.2404612e-03 -1.2327768e-03 -9.8364765e-04\n",
      "  1.8359807e-03 -1.5052662e-03 -2.4365275e-03 -2.8333213e-04\n",
      "  3.6794771e-03  3.6757677e-03  4.2005966e-04 -3.3928656e-03\n",
      "  3.0071854e-03  3.7323716e-04  3.8499963e-03  4.0281413e-04\n",
      " -4.3082903e-03 -3.1751633e-04  2.4076838e-03  1.3002063e-03\n",
      "  3.8838866e-03 -2.0502689e-03 -6.8194483e-04 -4.2108567e-03\n",
      " -3.7952026e-03 -3.6281883e-03 -4.8959758e-03 -3.8126793e-03\n",
      "  3.1342737e-03  2.9380540e-03  2.2515524e-03 -1.7493906e-03\n",
      " -4.9141268e-03  3.4225318e-03 -4.1249245e-03 -3.3591012e-03\n",
      " -4.4181090e-04 -3.8928335e-04  3.7711656e-03 -1.5974038e-03\n",
      " -5.2968285e-04  1.8452610e-03  6.4672605e-04 -7.0354203e-04\n",
      " -1.8355559e-03 -7.2898233e-04  2.6088690e-03  4.6655582e-03\n",
      " -2.8066678e-04  3.4341690e-04 -7.5127528e-04 -8.9848496e-04\n",
      " -3.6218576e-03  1.7652909e-03  1.6881785e-04 -2.8631187e-03\n",
      "  4.7934035e-04  3.2378992e-03 -9.3343122e-05  4.3429011e-03]\n",
      "Word2Vec(vocab=14, size=100, alpha=0.025)\n"
     ]
    },
    {
     "name": "stderr",
     "output_type": "stream",
     "text": [
      "C:\\Users\\gihan\\AppData\\Local\\Temp\\ipykernel_25128\\3433910916.py:15: DeprecationWarning: Call to deprecated `__getitem__` (Method will be removed in 4.0.0, use self.wv.__getitem__() instead).\n",
      "  print(model['sentence'])\n"
     ]
    }
   ],
   "source": [
    "# define training data\n",
    "sentences = [['this', 'is', 'the', 'first', 'sentence', 'for', 'word2vec'],\n",
    "\t\t\t['this', 'is', 'the', 'second', 'sentence'],\n",
    "\t\t\t['yet', 'another', 'sentence'],\n",
    "\t\t\t['one', 'more', 'sentence'],\n",
    "\t\t\t['and', 'the', 'final', 'sentence']]\n",
    "# train model\n",
    "model = Word2Vec(sentences, min_count=1)\n",
    "# summarize the loaded model\n",
    "print(model)\n",
    "# summarize vocabulary\n",
    "words = list(model.wv.vocab)\n",
    "print(words)\n",
    "# access vector for one word\n",
    "print(model['sentence'])\n",
    "# save model\n",
    "model.save('model.bin')\n",
    "# load model\n",
    "new_model = Word2Vec.load('model.bin')\n",
    "print(new_model)"
   ]
  },
  {
   "cell_type": "code",
   "execution_count": null,
   "id": "a7a1c3be-e957-4c5c-85e5-ab9f279191a6",
   "metadata": {},
   "outputs": [],
   "source": []
  },
  {
   "cell_type": "code",
   "execution_count": null,
   "id": "f4b37e39-e992-4dbb-8f32-e4f77d54d0c5",
   "metadata": {},
   "outputs": [],
   "source": []
  },
  {
   "cell_type": "code",
   "execution_count": 16,
   "id": "07a11ac0-3c61-4813-95ed-e4d261839625",
   "metadata": {},
   "outputs": [
    {
     "name": "stderr",
     "output_type": "stream",
     "text": [
      "C:\\Users\\gihan\\AppData\\Local\\Temp\\ipykernel_25128\\2753259485.py:1: DeprecationWarning: Call to deprecated `__getitem__` (Method will be removed in 4.0.0, use self.wv.__getitem__() instead).\n",
      "  X = model[model.wv.vocab]\n"
     ]
    },
    {
     "data": {
      "image/png": "[encoded data removed]",
      "text/plain": [
       "<Figure size 432x288 with 1 Axes>"
      ]
     },
     "metadata": {
      "needs_background": "light"
     },
     "output_type": "display_data"
    }
   ],
   "source": [
    "X = model[model.wv.vocab]\n",
    "pca = PCA(n_components=2)\n",
    "result = pca.fit_transform(X)\n",
    "pyplot.scatter(result[:, 0], result[:, 1])\n",
    "words = list(model.wv.vocab)\n",
    "for i, word in enumerate(words):\n",
    "\tpyplot.annotate(word, xy=(result[i, 0], result[i, 1]))"
   ]
  },
  {
   "cell_type": "code",
   "execution_count": null,
   "id": "e8d368a5-f18e-40fe-bda3-01909761660d",
   "metadata": {},
   "outputs": [],
   "source": []
  }
 ],
 "metadata": {
  "kernelspec": {
   "display_name": "w2v",
   "language": "python",
   "name": "w2v"
  },
  "language_info": {
   "codemirror_mode": {
    "name": "ipython",
    "version": 3
   },
   "file_extension": ".py",
   "mimetype": "text/x-python",
   "name": "python",
   "nbconvert_exporter": "python",
   "pygments_lexer": "ipython3",
   "version": "3.8.12"
  }
 },
 "nbformat": 4,
 "nbformat_minor": 5
}
