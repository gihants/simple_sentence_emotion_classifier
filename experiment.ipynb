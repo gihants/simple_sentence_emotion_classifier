{
 "cells": [
  {
   "cell_type": "code",
   "execution_count": 1,
   "id": "5552a6dc-3194-4725-b9ff-47cff97bc49b",
   "metadata": {},
   "outputs": [],
   "source": [
    "from simple_word_embedding.train import build_simple_words_model\n",
    "from simple_word_embedding.predict import predict_label_new_sentence"
   ]
  },
  {
   "cell_type": "code",
   "execution_count": 4,
   "id": "c7675672-bd1d-4edd-83d6-5a7b9c30a666",
   "metadata": {},
   "outputs": [
    {
     "name": "stdout",
     "output_type": "stream",
     "text": [
      "Weights distribution for each word: {'i': {'negative': 3, 'positive': 6}, 'like': {'negative': 1, 'positive': 3}, 'the': {'negative': 0, 'positive': 1}, 'way': {'negative': 0, 'positive': 1}, 'you': {'negative': 2, 'positive': 3}, 'look': {'negative': 0, 'positive': 0}, 'good': {'negative': 0, 'positive': 3}}\n"
     ]
    },
    {
     "ename": "ZeroDivisionError",
     "evalue": "division by zero",
     "output_type": "error",
     "traceback": [
      "\u001b[1;31m---------------------------------------------------------------------------\u001b[0m",
      "\u001b[1;31mZeroDivisionError\u001b[0m                         Traceback (most recent call last)",
      "Input \u001b[1;32mIn [4]\u001b[0m, in \u001b[0;36m<module>\u001b[1;34m\u001b[0m\n\u001b[0;32m      1\u001b[0m simple_word_model \u001b[38;5;241m=\u001b[39m build_simple_words_model(train_data_file\u001b[38;5;241m=\u001b[39m\u001b[38;5;124m'\u001b[39m\u001b[38;5;124mtraining_data/sentences.csv\u001b[39m\u001b[38;5;124m'\u001b[39m)\n\u001b[1;32m----> 2\u001b[0m \u001b[43mpredict_label_new_sentence\u001b[49m\u001b[43m(\u001b[49m\u001b[43msentence\u001b[49m\u001b[38;5;241;43m=\u001b[39;49m\u001b[38;5;124;43m'\u001b[39;49m\u001b[38;5;124;43mI like the way you look good\u001b[39;49m\u001b[38;5;124;43m'\u001b[39;49m\u001b[43m,\u001b[49m\u001b[43m \u001b[49m\u001b[43msimple_word_model\u001b[49m\u001b[38;5;241;43m=\u001b[39;49m\u001b[43msimple_word_model\u001b[49m\u001b[43m)\u001b[49m\n",
      "File \u001b[1;32m~\\NANATHAMBARA\\simple_word_embedding\\simple_word_embedding\\predict.py:37\u001b[0m, in \u001b[0;36mpredict_label_new_sentence\u001b[1;34m(sentence, simple_word_model)\u001b[0m\n\u001b[0;32m     35\u001b[0m     label_weight \u001b[38;5;241m=\u001b[39m \u001b[38;5;241m0\u001b[39m\n\u001b[0;32m     36\u001b[0m     \u001b[38;5;28;01mfor\u001b[39;00m word, word_weights \u001b[38;5;129;01min\u001b[39;00m sentence_weights\u001b[38;5;241m.\u001b[39mitems():\n\u001b[1;32m---> 37\u001b[0m         label_weight \u001b[38;5;241m+\u001b[39m\u001b[38;5;241m=\u001b[39m (\u001b[43mword_weights\u001b[49m\u001b[43m[\u001b[49m\u001b[43mlabel\u001b[49m\u001b[43m]\u001b[49m\u001b[43m \u001b[49m\u001b[38;5;241;43m/\u001b[39;49m\u001b[43m \u001b[49m\u001b[38;5;28;43msum\u001b[39;49m\u001b[43m(\u001b[49m\u001b[38;5;28;43mlist\u001b[39;49m\u001b[43m(\u001b[49m\u001b[43mword_weights\u001b[49m\u001b[38;5;241;43m.\u001b[39;49m\u001b[43mvalues\u001b[49m\u001b[43m(\u001b[49m\u001b[43m)\u001b[49m\u001b[43m)\u001b[49m\u001b[43m)\u001b[49m)\n\u001b[0;32m     38\u001b[0m     label_scores[label] \u001b[38;5;241m=\u001b[39m label_weight\n\u001b[0;32m     40\u001b[0m \u001b[38;5;28mprint\u001b[39m(\u001b[38;5;124m\"\u001b[39m\u001b[38;5;124mLabel scores: \u001b[39m\u001b[38;5;124m\"\u001b[39m, label_scores)\n",
      "\u001b[1;31mZeroDivisionError\u001b[0m: division by zero"
     ]
    }
   ],
   "source": [
    "simple_word_model = build_simple_words_model(train_data_file='training_data/sentences.csv')\n",
    "predict_label_new_sentence(sentence='I like the way you look good', simple_word_model=simple_word_model)"
   ]
  },
  {
   "cell_type": "code",
   "execution_count": null,
   "id": "2e92a255-2cf6-48fe-ba46-c44e8082f181",
   "metadata": {},
   "outputs": [],
   "source": []
  }
 ],
 "metadata": {
  "kernelspec": {
   "display_name": "w2v",
   "language": "python",
   "name": "w2v"
  },
  "language_info": {
   "codemirror_mode": {
    "name": "ipython",
    "version": 3
   },
   "file_extension": ".py",
   "mimetype": "text/x-python",
   "name": "python",
   "nbconvert_exporter": "python",
   "pygments_lexer": "ipython3",
   "version": "3.8.12"
  }
 },
 "nbformat": 4,
 "nbformat_minor": 5
}
