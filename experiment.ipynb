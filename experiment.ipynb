{
 "cells": [
  {
   "cell_type": "code",
   "execution_count": 1,
   "id": "5552a6dc-3194-4725-b9ff-47cff97bc49b",
   "metadata": {},
   "outputs": [],
   "source": [
    "from simple_word_embedding.train import build_simple_words_model\n",
    "from simple_word_embedding.predict import predict_label_new_sentence"
   ]
  },
  {
   "cell_type": "code",
   "execution_count": 3,
   "id": "c7675672-bd1d-4edd-83d6-5a7b9c30a666",
   "metadata": {},
   "outputs": [
    {
     "name": "stdout",
     "output_type": "stream",
     "text": [
      "Weights distribution for each word: {'i': {'negative': 3, 'positive': 6}, 'like': {'negative': 1, 'positive': 3}, 'the': {'negative': 0, 'positive': 1}, 'way': {'negative': 0, 'positive': 1}, 'you': {'negative': 2, 'positive': 3}, 'look': {'negative': 0, 'positive': 0}, 'good': {'negative': 0, 'positive': 3}}\n",
      "Label scores:  {'negative': 0.9833333333333333, 'positive': 5.016666666666667}\n",
      "Label confidences (%):  {'negative': 16.39, 'positive': 83.61}\n",
      "For the [sentence:  I like the way you look good ] the predicted label = [ positive ] with a prediction confidence = [ 83.61 %]\n"
     ]
    }
   ],
   "source": [
    "simple_word_model = build_simple_words_model(train_data_file='training_data/sentences.csv')\n",
    "predicted_label, prediction_confidence = predict_label_new_sentence(sentence='I like the way you look good', simple_word_model=simple_word_model)"
   ]
  }
 ],
 "metadata": {
  "kernelspec": {
   "display_name": "w2v",
   "language": "python",
   "name": "w2v"
  },
  "language_info": {
   "codemirror_mode": {
    "name": "ipython",
    "version": 3
   },
   "file_extension": ".py",
   "mimetype": "text/x-python",
   "name": "python",
   "nbconvert_exporter": "python",
   "pygments_lexer": "ipython3",
   "version": "3.8.12"
  }
 },
 "nbformat": 4,
 "nbformat_minor": 5
}
