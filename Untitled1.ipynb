{
 "cells": [
  {
   "cell_type": "code",
   "execution_count": 16,
   "id": "9120e44b-b064-46b5-b533-fae02f08236d",
   "metadata": {},
   "outputs": [],
   "source": [
    "from typing import Dict, List, Tuple\n",
    "import pandas as pd\n",
    "import operator\n",
    "\n",
    "def __load_training_data(train_data_file: str) -> Tuple[List[str], List[List[str]]]:\n",
    "    train_df = pd.read_csv('training_data/sentences.csv', header = None)\n",
    "    train_df.columns =['sentence', 'label']\n",
    "    train_df = train_df.groupby('label')['sentence'].apply(list).reset_index(name='sentences')\n",
    "    labels = train_df.label.to_list()\n",
    "    sentence_sets = train_df.sentences.to_list()\n",
    "    return labels, sentence_sets\n",
    "\n",
    "def __word_count(sentence: str) -> List[Dict[str, int]]:\n",
    "    counts = dict()\n",
    "    words = sentence.split()\n",
    "\n",
    "    for word in words:\n",
    "        if word in counts:\n",
    "            counts[word] += 1\n",
    "        else:\n",
    "            counts[word] = 1     \n",
    "\n",
    "    return counts\n",
    "\n",
    "def build_simple_words_model(train_data_file: str) -> List[Dict[str,Dict[str, int]]]:\n",
    "    labels, sentence_sets = __load_training_data(train_data_file = train_data_file)\n",
    "    word_counts = [__word_count(' '.join(sentence_set).lower()) for sentence_set in sentence_sets]\n",
    "    simple_word_model = ([{label : word_count} for label, word_count in zip(labels, word_counts)])\n",
    "    return simple_word_model\n",
    "    \n",
    "def __generate_sentence_weights(sentence: str, simple_word_model: List[Dict[str,Dict[str, int]]]) -> Dict[str, Dict[str, int]]:\n",
    "    words = sentence.lower().split()\n",
    "    weights = dict()\n",
    "    for word in words:\n",
    "        word_weight = dict()\n",
    "        for label_weights in simple_word_model:\n",
    "            label = list(label_weights.keys())[0]\n",
    "            label_dict = list(label_weights.values())[0]\n",
    "            label_words = list(label_dict.keys())\n",
    "\n",
    "            if word in label_words:\n",
    "                word_weight[label] = label_dict[word]\n",
    "            else:\n",
    "                word_weight[label]  = 0\n",
    "\n",
    "        weights[word] = word_weight\n",
    "    return weights\n",
    "\n",
    "\n",
    "def predict_label_new_sentence(sentence: str, simple_word_model: List[Dict[str,Dict[str, int]]]) -> Tuple[str, int]:\n",
    "    labels = [list(label_weights.keys())[0] for label_weights in simple_word_model]\n",
    "    \n",
    "    sentence_weights = __generate_sentence_weights(sentence, simple_word_model)\n",
    "    \n",
    "    print(\"Weights distribution for each word:\" , sentence_weights)\n",
    "    \n",
    "    label_scores = dict()\n",
    "    label_confidences = dict()\n",
    "    \n",
    "    for label in labels:\n",
    "        label_weight = 0\n",
    "        for word, word_weights in sentence_weights.items():\n",
    "            label_weight += (word_weights[label] / sum(list(word_weights.values())))\n",
    "        label_scores[label] = label_weight\n",
    "\n",
    "    print(\"Label scores: \", label_scores)\n",
    "    \n",
    "    for label in labels:\n",
    "        label_confidences[label] = round(label_scores[label] * 100 / sum(list(label_scores.values())), 2)\n",
    "        \n",
    "    print(\"Label confidences (%): \", label_confidences)\n",
    "\n",
    "    predicted_label =  max(label_confidences.items(), key=operator.itemgetter(1))[0]\n",
    "    \n",
    "    prediction_confidence = label_confidences[predicted_label]\n",
    "    \n",
    "    print(\"For the [sentence: \", sentence, \"] the predicted label = [\", predicted_label, \"] with a prediction confidence = [\" , prediction_confidence, \"%]\")\n",
    "    \n",
    "    return predicted_label, prediction_confidence"
   ]
  },
  {
   "cell_type": "code",
   "execution_count": 17,
   "id": "635bb8ba-6f65-48b6-ae66-76c6fdc07b00",
   "metadata": {},
   "outputs": [
    {
     "name": "stdout",
     "output_type": "stream",
     "text": [
      "Weights distribution for each word: {'i': {'negative': 3, 'positive': 6}, 'am': {'negative': 0, 'positive': 2}, 'good': {'negative': 0, 'positive': 3}}\n",
      "Label scores:  {'negative': 0.3333333333333333, 'positive': 2.6666666666666665}\n",
      "Label confidences (%):  {'negative': 11.11, 'positive': 88.89}\n",
      "For the [sentence:  I am good ] the predicted label = [ positive ] with a prediction confidence = [ 88.89 %]\n"
     ]
    }
   ],
   "source": [
    "# Training\n",
    "simple_word_model = build_simple_words_model(train_data_file = 'training_data/sentences.csv')\n",
    "\n",
    "# Testing\n",
    "sentence = 'I am good'\n",
    "predicted_label, prediction_confidence = predict_label_new_sentence(sentence, simple_word_model)\n"
   ]
  },
  {
   "cell_type": "code",
   "execution_count": null,
   "id": "0001099d-8f62-4dc9-978d-9f3dcbfa036c",
   "metadata": {},
   "outputs": [],
   "source": []
  },
  {
   "cell_type": "code",
   "execution_count": null,
   "id": "8af98772-9b2d-4d86-bd8a-5915a1fe7519",
   "metadata": {},
   "outputs": [],
   "source": []
  }
 ],
 "metadata": {
  "kernelspec": {
   "display_name": "w2v",
   "language": "python",
   "name": "w2v"
  },
  "language_info": {
   "codemirror_mode": {
    "name": "ipython",
    "version": 3
   },
   "file_extension": ".py",
   "mimetype": "text/x-python",
   "name": "python",
   "nbconvert_exporter": "python",
   "pygments_lexer": "ipython3",
   "version": "3.8.12"
  }
 },
 "nbformat": 4,
 "nbformat_minor": 5
}
